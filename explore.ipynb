{
 "cells": [
  {
   "cell_type": "code",
   "execution_count": 1,
   "metadata": {},
   "outputs": [],
   "source": [
    "%load_ext autoreload\n",
    "%autoreload 2"
   ]
  },
  {
   "cell_type": "code",
   "execution_count": 32,
   "metadata": {},
   "outputs": [],
   "source": [
    "from time import perf_counter\n",
    "from game import Game, Solver,BruteForceSolver, SmartSolver, LLMSolver\n",
    "from typing import List\n"
   ]
  },
  {
   "cell_type": "code",
   "execution_count": 33,
   "metadata": {},
   "outputs": [],
   "source": [
    "def benchmark(solver: Solver, games: List[List[float]]) -> List[float]:\n",
    "    durs = []\n",
    "    for state in games:\n",
    "        game = Game(state)\n",
    "        start = perf_counter()\n",
    "        solution = solver.solve(game)\n",
    "        durs.append(perf_counter() - start)\n",
    "        print(f\"{state} -> {solution} ({durs[-1]:.10f}s)\")\n",
    "    print(f\"Average duration: {sum(durs) / len(durs):.10f}s\")\n"
   ]
  },
  {
   "cell_type": "code",
   "execution_count": 34,
   "metadata": {},
   "outputs": [],
   "source": [
    "example_games = [\n",
    "    [1, 2, 3, 4],\n",
    "    [7, 3, 3, 7],\n",
    "    [1, 1, 1, 1],\n",
    "    [3, 8, 3, 8],\n",
    "    [11, 1, 11, 5],\n",
    "    [13, 1, 13, 7],\n",
    "    [1, 3, 8, 4],\n",
    "]"
   ]
  },
  {
   "cell_type": "code",
   "execution_count": 35,
   "metadata": {},
   "outputs": [
    {
     "name": "stdout",
     "output_type": "stream",
     "text": [
      "[1, 2, 3, 4] -> 4 * (3 + 1 + 2) (0.0002088000s)\n",
      "[7, 3, 3, 7] -> 7 * (3 + 3 / 7) (0.0042543010s)\n",
      "[1, 1, 1, 1] -> None (0.0255737070s)\n",
      "[3, 8, 3, 8] -> 8 / (3 - 8 / 3) (0.0150467030s)\n",
      "[11, 1, 11, 5] -> (11 * 11 - 1) / 5 (0.0246678060s)\n",
      "[13, 1, 13, 7] -> (13 * 13 - 1) / 7 (0.0267538070s)\n",
      "[1, 3, 8, 4] -> 8 + 4 * (1 + 3) (0.0002361000s)\n",
      "Average duration: 0.0138201749s\n"
     ]
    }
   ],
   "source": [
    "brute_force_solver = BruteForceSolver()\n",
    "benchmark(brute_force_solver, example_games)"
   ]
  },
  {
   "cell_type": "code",
   "execution_count": 36,
   "metadata": {},
   "outputs": [
    {
     "name": "stdout",
     "output_type": "stream",
     "text": [
      "Solved 1 games\n",
      "Solved 101 games\n",
      "Solved 201 games\n",
      "Solved 301 games\n",
      "Solved 401 games\n",
      "Solved 501 games\n",
      "Solved 601 games\n",
      "Solved 701 games\n",
      "Solved 801 games\n",
      "Solved 901 games\n",
      "Solved 1001 games\n",
      "[1, 2, 3, 4] -> 4 * (3 + 1 + 2) (0.0000347000s)\n",
      "[7, 3, 3, 7] -> 7 * (3 + 3 / 7) (0.0000271000s)\n",
      "[1, 1, 1, 1] -> None (0.0001448000s)\n",
      "[3, 8, 3, 8] -> 8 / (3 - 8 / 3) (0.0000267000s)\n",
      "[11, 1, 11, 5] -> (11 * 11 - 1) / 5 (0.0000253000s)\n",
      "[13, 1, 13, 7] -> (13 * 13 - 1) / 7 (0.0000234000s)\n",
      "[1, 3, 8, 4] -> 8 + 4 * (1 + 3) (0.0000238000s)\n",
      "Average duration: 0.0000436857s\n"
     ]
    }
   ],
   "source": [
    "smart_solver = SmartSolver(num_games=1000)\n",
    "benchmark(smart_solver, example_games)"
   ]
  },
  {
   "cell_type": "code",
   "execution_count": null,
   "metadata": {},
   "outputs": [
    {
     "name": "stdout",
     "output_type": "stream",
     "text": [
      "[1, 2, 3, 4] -> 1 * 2 * 3 * 4 (23.3024193430s)\n",
      "[7, 3, 3, 7] -> 7 * (3 + 3 / 7) (114.4400267490s)\n",
      "Agent finished but game not solved.\n",
      "Final state: [1.0, 1.0, 1.0, 1.0]\n",
      "[1, 1, 1, 1] -> None (4.3904751820s)\n",
      "Error during solving: Recursion limit of 25 reached without hitting a stop condition. You can increase the limit by setting the `recursion_limit` config key.\n",
      "For troubleshooting, visit: https://python.langchain.com/docs/troubleshooting/errors/GRAPH_RECURSION_LIMIT\n",
      "[3, 8, 3, 8] -> None (105.7038135200s)\n",
      "[11, 1, 11, 5] -> (11 * 11 - 1) / 5 (17.3491119680s)\n",
      "Agent finished but game not solved.\n",
      "Final state: [1.0, 7.0, 13.0, 13.0]\n",
      "[13, 1, 13, 7] -> None (66.7067677390s)\n",
      "[1, 3, 8, 4] -> (4 + 8) * (3 - 1) (14.4785624470s)\n",
      "Average duration: 49.4815967069s\n"
     ]
    }
   ],
   "source": [
    "llm_solver = LLMSolver(model=\"gpt-4o\")\n",
    "benchmark(llm_solver, example_games)"
   ]
  },
  {
   "cell_type": "code",
   "execution_count": null,
   "metadata": {},
   "outputs": [],
   "source": []
  }
 ],
 "metadata": {
  "kernelspec": {
   "display_name": "env",
   "language": "python",
   "name": "python3"
  },
  "language_info": {
   "codemirror_mode": {
    "name": "ipython",
    "version": 3
   },
   "file_extension": ".py",
   "mimetype": "text/x-python",
   "name": "python",
   "nbconvert_exporter": "python",
   "pygments_lexer": "ipython3",
   "version": "3.10.17"
  }
 },
 "nbformat": 4,
 "nbformat_minor": 2
}
