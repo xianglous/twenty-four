{
 "cells": [
  {
   "cell_type": "markdown",
   "metadata": {},
   "source": [
    "## The Game of 24\n",
    "One of my favorite card game growing up. Per Wikipedia:\n",
    "\n",
    "```\n",
    "    The 24 puzzle is an arithmetical puzzle in which the objective is to find a way to manipulate four integers so that the end result is 24. For example, for the numbers 4, 7, 8, 8, a possible solution is (7 - (8 / 8)) * 4. Note that all four numbers must be used exactly once\n",
    "```"
   ]
  },
  {
   "cell_type": "code",
   "execution_count": 1,
   "metadata": {},
   "outputs": [],
   "source": [
    "%load_ext autoreload\n",
    "%autoreload 2"
   ]
  },
  {
   "cell_type": "markdown",
   "metadata": {},
   "source": [
    "### Game Definition\n",
    "In the `game.py` file, I have setup the `Game` interface"
   ]
  },
  {
   "cell_type": "code",
   "execution_count": 17,
   "metadata": {},
   "outputs": [],
   "source": [
    "from twenty_four.game import Game\n",
    "\n",
    "game = Game(init_state=[4, 7, 8, 8])"
   ]
  },
  {
   "cell_type": "markdown",
   "metadata": {},
   "source": [
    "One can apply operations to the game state using the indices of the number in the current state.\n",
    "Also, the `Game` class supports **undo** operation"
   ]
  },
  {
   "cell_type": "code",
   "execution_count": 18,
   "metadata": {},
   "outputs": [
    {
     "name": "stdout",
     "output_type": "stream",
     "text": [
      "Current state: [4.0, 7.0, 8.0, 8.0]\n",
      "Current state: [4.0, 8.0, 0.875]\n",
      "Current state: [4.0, 7.0, 8.0, 8.0]\n",
      "Current state: [4.0, 7.0, 1.0]\n",
      "Current state: [4.0, 6.0]\n",
      "Current state: [24.0]\n"
     ]
    }
   ],
   "source": [
    "print(f\"Current state: {game.get_cur_state()}\")\n",
    "game.divide(1, 3)\n",
    "print(f\"Current state: {game.get_cur_state()}\")\n",
    "game.undo()\n",
    "print(f\"Current state: {game.get_cur_state()}\")\n",
    "game.divide(2, 3)\n",
    "print(f\"Current state: {game.get_cur_state()}\")\n",
    "game.subtract(1, 2)\n",
    "print(f\"Current state: {game.get_cur_state()}\")\n",
    "game.multiply(0, 1)\n",
    "print(f\"Current state: {game.get_cur_state()}\")"
   ]
  },
  {
   "cell_type": "markdown",
   "metadata": {},
   "source": [
    "The solution can be printed as following"
   ]
  },
  {
   "cell_type": "code",
   "execution_count": 15,
   "metadata": {},
   "outputs": [
    {
     "name": "stdout",
     "output_type": "stream",
     "text": [
      "4 * (7 - 8 / 8)\n"
     ]
    }
   ],
   "source": [
    "print(game.get_solution_expr())"
   ]
  },
  {
   "cell_type": "markdown",
   "metadata": {},
   "source": [
    "### Solver\n",
    "In `basic_solver.py` and `agent_solver.py`, three `Solver` classes are implemented.\n",
    "\n",
    "- `BruteForceSolver`: recursively explore next possible operation. Backtrack if not solvable\n",
    "- `SmartSolver`: recursively explore next possible operation and cache next step that leads to a solution. The class can also play random games to build the memorization cache\n",
    "- `AgentSolver`: agentic solver by giving LLM with the following tools:\n",
    "  - `perform_op`: perform an operation on the current game state.\n",
    "  - `undo_op`: undo the last operation.\n",
    "  - `direct_solve`: solve using brute force when there's only two numbers in the state.\n"
   ]
  },
  {
   "cell_type": "markdown",
   "metadata": {},
   "source": [
    "### Comparison\n",
    "In the following cells, we tested the performance of each solver using a few representative examples"
   ]
  },
  {
   "cell_type": "code",
   "execution_count": 2,
   "metadata": {},
   "outputs": [],
   "source": [
    "from time import perf_counter\n",
    "from twenty_four.basic_solver import Solver, BruteForceSolver, SmartSolver\n",
    "from twenty_four.agent_solver import AgentSolver\n"
   ]
  },
  {
   "cell_type": "code",
   "execution_count": 19,
   "metadata": {},
   "outputs": [],
   "source": [
    "def benchmark(solver: Solver, games: list[list[float]]) -> list[float]:\n",
    "    \"\"\"Run the solver on a list of games, print the solution and compute the average duration of games.\"\"\"\n",
    "    durs = []\n",
    "    for state in games:\n",
    "        game = Game(init_state=state)\n",
    "        start = perf_counter()\n",
    "        solution = solver.solve(game)\n",
    "        durs.append(perf_counter() - start)\n",
    "        print(f\"{state} -> {solution} ({durs[-1]:.10f}s)\")\n",
    "    print(f\"Average duration: {sum(durs) / len(durs):.10f}s\")\n"
   ]
  },
  {
   "cell_type": "code",
   "execution_count": 20,
   "metadata": {},
   "outputs": [],
   "source": [
    "example_games = [\n",
    "    [1, 2, 3, 4],\n",
    "    [7, 3, 3, 7],\n",
    "    [1, 1, 1, 1],\n",
    "    [3, 8, 3, 8],\n",
    "    [11, 1, 11, 5],\n",
    "    [13, 1, 13, 7],\n",
    "    [1, 3, 8, 4],\n",
    "]"
   ]
  },
  {
   "cell_type": "markdown",
   "metadata": {},
   "source": [
    "#### Brute-Force Solver"
   ]
  },
  {
   "cell_type": "code",
   "execution_count": 5,
   "metadata": {},
   "outputs": [
    {
     "name": "stdout",
     "output_type": "stream",
     "text": [
      "[1, 2, 3, 4] -> 4 * (3 + 1 + 2) (0.0002763750s)\n",
      "[7, 3, 3, 7] -> 7 * (3 + 3 / 7) (0.0020739580s)\n",
      "[1, 1, 1, 1] -> None (0.0090940000s)\n",
      "[3, 8, 3, 8] -> 8 / (3 - 8 / 3) (0.0017260000s)\n",
      "[11, 1, 11, 5] -> (11 * 11 - 1) / 5 (0.0023009580s)\n",
      "[13, 1, 13, 7] -> (13 * 13 - 1) / 7 (0.0023006670s)\n",
      "[1, 3, 8, 4] -> 8 + 4 * (1 + 3) (0.0002533750s)\n",
      "Average duration: 0.0025750476s\n"
     ]
    }
   ],
   "source": [
    "brute_force_solver = BruteForceSolver()\n",
    "benchmark(brute_force_solver, example_games)"
   ]
  },
  {
   "cell_type": "markdown",
   "metadata": {},
   "source": [
    "#### Smart Solver with Memorization"
   ]
  },
  {
   "cell_type": "code",
   "execution_count": 9,
   "metadata": {},
   "outputs": [
    {
     "name": "stdout",
     "output_type": "stream",
     "text": [
      "======Training Started======\n",
      "Solved 1 games\n",
      "Solved 101 games\n",
      "Solved 201 games\n",
      "Solved 301 games\n",
      "Solved 401 games\n",
      "Solved 501 games\n",
      "Solved 601 games\n",
      "Solved 701 games\n",
      "Solved 801 games\n",
      "Solved 901 games\n",
      "Solved 1001 games\n",
      "========Training Done========\n",
      "[1, 2, 3, 4] -> 4 * (3 + 1 + 2) (0.0000175830s)\n",
      "[7, 3, 3, 7] -> 7 * (3 + 3 / 7) (0.0000142920s)\n",
      "[1, 1, 1, 1] -> None (0.0001004170s)\n",
      "[3, 8, 3, 8] -> 8 / (3 - 8 / 3) (0.0000145830s)\n",
      "[11, 1, 11, 5] -> (11 * 11 - 1) / 5 (0.0000143750s)\n",
      "[13, 1, 13, 7] -> (13 * 13 - 1) / 7 (0.0000132910s)\n",
      "[1, 3, 8, 4] -> 8 + 4 * (1 + 3) (0.0000132080s)\n",
      "Average duration: 0.0000268213s\n"
     ]
    }
   ],
   "source": [
    "smart_solver = SmartSolver(num_games=1000)\n",
    "benchmark(smart_solver, example_games)"
   ]
  },
  {
   "cell_type": "markdown",
   "metadata": {},
   "source": [
    "#### Agentic Solver using LangGraph and OpenAI models"
   ]
  },
  {
   "cell_type": "markdown",
   "metadata": {},
   "source": [
    "gpt-4o model"
   ]
  },
  {
   "cell_type": "code",
   "execution_count": 21,
   "metadata": {},
   "outputs": [
    {
     "name": "stdout",
     "output_type": "stream",
     "text": [
      "[1, 2, 3, 4] -> 2 * 3 * 1 * 4 (4.0696190410s)\n",
      "[7, 3, 3, 7] -> None (55.3556951660s)\n",
      "[1, 1, 1, 1] -> None (1.8170785420s)\n",
      "[3, 8, 3, 8] -> None (21.8309424590s)\n",
      "[11, 1, 11, 5] -> None (43.2660496670s)\n",
      "[13, 1, 13, 7] -> None (9.2481402910s)\n",
      "[1, 3, 8, 4] -> None (6.0013270000s)\n",
      "Average duration: 20.2269788809s\n"
     ]
    }
   ],
   "source": [
    "agent_solver = AgentSolver(model=\"gpt-4o\")\n",
    "benchmark(agent_solver, example_games)"
   ]
  },
  {
   "cell_type": "markdown",
   "metadata": {},
   "source": [
    "o4-mini model"
   ]
  },
  {
   "cell_type": "code",
   "execution_count": 7,
   "metadata": {},
   "outputs": [
    {
     "name": "stdout",
     "output_type": "stream",
     "text": [
      "[1, 2, 3, 4] -> 1 * 4 * 2 * 3 (16.9661647920s)\n",
      "[7, 3, 3, 7] -> None (103.9218697500s)\n",
      "[1, 1, 1, 1] -> None (3.3071891660s)\n",
      "[3, 8, 3, 8] -> 8 / (3 - 8 / 3) (49.0721780000s)\n",
      "[11, 1, 11, 5] -> (11 * 11 - 1) / 5 (87.4103180840s)\n",
      "[13, 1, 13, 7] -> None (26.6267680000s)\n",
      "[1, 3, 8, 4] -> (8 + 4) * (3 - 1) (18.2180870840s)\n",
      "Average duration: 43.6460821251s\n"
     ]
    }
   ],
   "source": [
    "agent_solver = AgentSolver(model=\"o4-mini\")\n",
    "benchmark(agent_solver, example_games)"
   ]
  },
  {
   "cell_type": "markdown",
   "metadata": {},
   "source": [
    "o3 model"
   ]
  },
  {
   "cell_type": "code",
   "execution_count": 11,
   "metadata": {},
   "outputs": [
    {
     "name": "stdout",
     "output_type": "stream",
     "text": [
      "[1, 2, 3, 4] -> 1 * 4 * 2 * 3 (25.7439446250s)\n",
      "[7, 3, 3, 7] -> 7 * (3 + 3 / 7) (57.1472106670s)\n",
      "[1, 1, 1, 1] -> None (32.1572789170s)\n",
      "[3, 8, 3, 8] -> 8 / (3 - 8 / 3) (93.9317958340s)\n",
      "[11, 1, 11, 5] -> (11 * 11 - 1) / 5 (228.6280841660s)\n",
      "[13, 1, 13, 7] -> (13 * 13 - 1) / 7 (122.4673297500s)\n",
      "[1, 3, 8, 4] -> (8 + 4) * (3 - 1) (15.2604533330s)\n",
      "Average duration: 82.1908710417s\n"
     ]
    }
   ],
   "source": [
    "agent_solver = AgentSolver(model=\"o3\")\n",
    "benchmark(agent_solver, example_games)"
   ]
  },
  {
   "cell_type": "code",
   "execution_count": null,
   "metadata": {},
   "outputs": [],
   "source": []
  }
 ],
 "metadata": {
  "kernelspec": {
   "display_name": "env",
   "language": "python",
   "name": "python3"
  },
  "language_info": {
   "codemirror_mode": {
    "name": "ipython",
    "version": 3
   },
   "file_extension": ".py",
   "mimetype": "text/x-python",
   "name": "python",
   "nbconvert_exporter": "python",
   "pygments_lexer": "ipython3",
   "version": "3.10.17"
  }
 },
 "nbformat": 4,
 "nbformat_minor": 2
}
